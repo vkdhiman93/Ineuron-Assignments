{
 "cells": [
  {
   "cell_type": "code",
   "execution_count": 1,
   "metadata": {},
   "outputs": [
    {
     "name": "stdout",
     "output_type": "stream",
     "text": [
      "Enter the number:11\n",
      "11 ! = 39916800\n"
     ]
    }
   ],
   "source": [
    "# Write a Python Program to Find the Factorial of a Number?\n",
    "n = int(input(\"Enter the number:\"))\n",
    "\n",
    "if (n < 0):\n",
    "    print(\"Enter a positive integer\")\n",
    "\n",
    "if (n == 0):\n",
    "    print(n, \"! =\", 1)\n",
    "\n",
    "if n > 0:\n",
    "    f = 1\n",
    "    for i in range(1, n+1):\n",
    "        f = i*f\n",
    "\n",
    "    print(n, \"! =\", f)"
   ]
  },
  {
   "cell_type": "code",
   "execution_count": 2,
   "metadata": {},
   "outputs": [
    {
     "name": "stdout",
     "output_type": "stream",
     "text": [
      "Enter the number:17\n",
      "\n",
      "\n",
      "Multiplication table for 17 \n",
      "\n",
      "17 x 1 = 17\n",
      "17 x 2 = 34\n",
      "17 x 3 = 51\n",
      "17 x 4 = 68\n",
      "17 x 5 = 85\n",
      "17 x 6 = 102\n",
      "17 x 7 = 119\n",
      "17 x 8 = 136\n",
      "17 x 9 = 153\n",
      "17 x 10 = 170\n"
     ]
    }
   ],
   "source": [
    "# Write a Python Program to Display the multiplication Table?\n",
    "n = int(input(\"Enter the number:\"))\n",
    "print(\"\\n\")\n",
    "\n",
    "if (n < 0 or n == 0):\n",
    "    print(\"Enter a positive integer greater than zero\")\n",
    "\n",
    "if (n > 0):\n",
    "    print(\"Multiplication table for\", n, \"\\n\")\n",
    "    for i in range(1, 11):\n",
    "        print(n, \"x\", i, \"=\", n*i)"
   ]
  },
  {
   "cell_type": "code",
   "execution_count": 3,
   "metadata": {},
   "outputs": [
    {
     "name": "stdout",
     "output_type": "stream",
     "text": [
      "Enter how many numbers are required in the fibonacci sequence to be generated: 15\n",
      "0 1 1 2 3 5 8 13 21 34 55 89 144 233 377 "
     ]
    }
   ],
   "source": [
    "# Write a Python Program to Print the Fibonacci sequence?\n",
    "n = int(input(\"Enter how many numbers are required in the fibonacci sequence to be generated: \"))\n",
    "\n",
    "if (n < 0 or n == 0):\n",
    "    print(\"Enter a number greater than zero\")\n",
    "\n",
    "a = 0\n",
    "b = 1\n",
    "for i in range(0, n):\n",
    "    print(a, end=\" \")\n",
    "    a, b = b, a+b"
   ]
  },
  {
   "cell_type": "code",
   "execution_count": 14,
   "metadata": {},
   "outputs": [
    {
     "name": "stdout",
     "output_type": "stream",
     "text": [
      "Enter the interval in which you want to find Armstrong number\n",
      "Enter start of interval: 8\n",
      "Enter end of interval: 9000\n",
      "List of Armstrong number in the interval: [8, 9, 153, 370, 371, 407, 1634, 8208]\n"
     ]
    }
   ],
   "source": [
    "# Write a Python Program to Find Armstrong Number in an Interval?\n",
    "\n",
    "# A positive integer is called an Armstrong number of order n if\n",
    "# abc... = a^n + b^n + c^n + ...\n",
    "print('Enter the interval in which you want to find Armstrong number')\n",
    "s = int(input('Enter start of interval: '))\n",
    "e = int(input('Enter end of interval: '))\n",
    "\n",
    "l = list(range(s,e+1))\n",
    "\n",
    "a = []\n",
    "\n",
    "for num in l:\n",
    "    # initialize sum\n",
    "    sum = 0\n",
    "    order = len(str(num))\n",
    "\n",
    "    temp = num\n",
    "    while temp > 0:\n",
    "        digit = temp % 10\n",
    "        sum += digit ** order\n",
    "        temp //= 10\n",
    "\n",
    "    # display the result\n",
    "    if num == sum:\n",
    "        a.append(num)\n",
    "    \n",
    "print(f'List of Armstrong number in the interval: {a}')"
   ]
  },
  {
   "cell_type": "code",
   "execution_count": 15,
   "metadata": {},
   "outputs": [
    {
     "name": "stdout",
     "output_type": "stream",
     "text": [
      "Enter the number of natural no.s to be added: 456886\n",
      "Sum of first 456886 natural numbers = 104372636941\n"
     ]
    }
   ],
   "source": [
    "# Write a Python Program to Find the Sum of Natural Numbers?\n",
    "n = int(input(\"Enter the number of natural no.s to be added: \"))\n",
    "\n",
    "if (n <= 0):\n",
    "    print(\"Enter a positive integer greater than zero\")\n",
    "\n",
    "sum = 0\n",
    "if (n > 0):\n",
    "    for i in range(1, n+1):\n",
    "        sum = sum+i\n",
    "    print(\"Sum of first {} natural numbers = {}\".format(n, sum))"
   ]
  }
 ],
 "metadata": {
  "kernelspec": {
   "display_name": "Python 3",
   "language": "python",
   "name": "python3"
  },
  "language_info": {
   "codemirror_mode": {
    "name": "ipython",
    "version": 3
   },
   "file_extension": ".py",
   "mimetype": "text/x-python",
   "name": "python",
   "nbconvert_exporter": "python",
   "pygments_lexer": "ipython3",
   "version": "3.8.5"
  }
 },
 "nbformat": 4,
 "nbformat_minor": 4
}
