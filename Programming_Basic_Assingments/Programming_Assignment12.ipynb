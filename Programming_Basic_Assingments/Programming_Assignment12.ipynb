{
 "cells": [
  {
   "cell_type": "markdown",
   "id": "b1d78136",
   "metadata": {},
   "source": [
    "# Assignment 12 Solutions"
   ]
  },
  {
   "cell_type": "markdown",
   "id": "47588382",
   "metadata": {},
   "source": [
    "#### 1.Write a Python program to Extract Unique values dictionary values?"
   ]
  },
  {
   "cell_type": "code",
   "execution_count": 1,
   "id": "8cfece02",
   "metadata": {},
   "outputs": [
    {
     "name": "stdout",
     "output_type": "stream",
     "text": [
      "dict_values(['Gurgaon', 'Delhi', 'Pune', 'Banglore', 'Hyderabad', 'Pune', 'Delhi', 'Kolkata'])\n",
      "Unique Values: ['Gurgaon', 'Pune', 'Kolkata', 'Hyderabad', 'Banglore', 'Delhi']\n"
     ]
    }
   ],
   "source": [
    "in_dict = {1:'Gurgaon',2:'Delhi',3:'Pune',4:'Banglore',5:'Hyderabad',6:'Pune',7:'Delhi',8:'Kolkata'}\n",
    "print(in_dict.values())\n",
    "print(f'Unique Values: {list(set(in_dict.values()))}')"
   ]
  },
  {
   "cell_type": "markdown",
   "id": "3cfcbbc9",
   "metadata": {},
   "source": [
    "#### 2.Write a Python program to find the sum of all items in a dictionary?"
   ]
  },
  {
   "cell_type": "code",
   "execution_count": 2,
   "id": "33738c60",
   "metadata": {},
   "outputs": [
    {
     "name": "stdout",
     "output_type": "stream",
     "text": [
      "Sum of All items:  260\n"
     ]
    }
   ],
   "source": [
    "in_dict = {'Pomegranate':70,'Mango':20,'Banana':30,'Guava':40,'Apple':100}\n",
    "print('Sum of All items: ',sum(in_dict.values()))"
   ]
  },
  {
   "cell_type": "markdown",
   "id": "5e26e96b",
   "metadata": {},
   "source": [
    "#### 3.Write a Python program to Merging two Dictionaries?"
   ]
  },
  {
   "cell_type": "code",
   "execution_count": 3,
   "id": "30c2aafa",
   "metadata": {},
   "outputs": [
    {
     "name": "stdout",
     "output_type": "stream",
     "text": [
      "{'x': 14, 'y': 18, 'p': 7, 'q': 13, 'r': 9}\n"
     ]
    }
   ],
   "source": [
    "# Python code to merge dict using a single expression (in Python 3.9)\n",
    "def merge_dicts(dict1, dict2):\n",
    "    result = dict1 | dict2\n",
    "    return result\n",
    "       \n",
    "# Driver code\n",
    "dict1 = {'x': 14, 'y': 18}\n",
    "dict2 = {'p': 7, 'q': 13, 'r':9}\n",
    "dict3 = merge_dicts(dict1, dict2)\n",
    "print(dict3)"
   ]
  },
  {
   "cell_type": "code",
   "execution_count": 4,
   "id": "059056dd",
   "metadata": {},
   "outputs": [
    {
     "name": "stdout",
     "output_type": "stream",
     "text": [
      "{'cousre_name': 'Ineuron', 'course_instructors': ['Sudhanshu Kumar', 'Sunny', 'Krish Naik']}\n"
     ]
    }
   ],
   "source": [
    "# Method 2\n",
    "course_details = {\n",
    "    'cousre_name':'Ineuron'\n",
    "}\n",
    "instructors = {\n",
    "    'course_instructors':['Sudhanshu Kumar','Sunny','Krish Naik']\n",
    "}\n",
    "course_details.update(instructors)\n",
    "print(course_details)"
   ]
  },
  {
   "cell_type": "markdown",
   "id": "ea32cefe",
   "metadata": {},
   "source": [
    "#### 4.Write a Python program to convert key-values list to flat dictionary?"
   ]
  },
  {
   "cell_type": "code",
   "execution_count": 5,
   "id": "55139b2d",
   "metadata": {},
   "outputs": [
    {
     "name": "stdout",
     "output_type": "stream",
     "text": [
      "{'A': 10, 'B': 20, 'C': 30, 'D': 40, 'E': 50, 'F': 60, 'G': 70, 'H': 80, 'I': 90, 'J': 100}\n"
     ]
    }
   ],
   "source": [
    "in_list = [('A',10),('B',20),('C',30),('D',40),('E',50),('F',60),('G',70),('H',80),('I',90),('J',100)]\n",
    "\n",
    "# Method #1\n",
    "dict(in_list)\n",
    "\n",
    "# Method #2\n",
    "out_dict = {}\n",
    "for ele in in_list:\n",
    "    out_dict[ele[0]] = ele[1]\n",
    "print(out_dict)"
   ]
  },
  {
   "cell_type": "markdown",
   "id": "e945b1cf",
   "metadata": {},
   "source": [
    "#### 5.Write a Python program to insertion at the beginning in OrderedDict?"
   ]
  },
  {
   "cell_type": "code",
   "execution_count": 6,
   "id": "b28845f5",
   "metadata": {},
   "outputs": [
    {
     "name": "stdout",
     "output_type": "stream",
     "text": [
      "dict_one OrderedDict([('BBK Electronics', 'RealMe'), ('Microsoft', 'Windows'), ('Meta', 'WhatsApp')])\n",
      "dict_one OrderedDict([('BBK Electronics', 'RealMe'), ('Microsoft', 'Windows'), ('Meta', 'WhatsApp'), ('SpaceX', 'BoringCompany')])\n",
      "dict_one OrderedDict([('SpaceX', 'BoringCompany'), ('BBK Electronics', 'RealMe'), ('Microsoft', 'Windows'), ('Meta', 'WhatsApp')])\n"
     ]
    }
   ],
   "source": [
    "from collections import OrderedDict\n",
    "dict_one = OrderedDict({'BBK Electronics':'RealMe','Microsoft':'Windows','Meta':'WhatsApp'})\n",
    "print('dict_one',dict_one)\n",
    "dict_two = {'SpaceX':'BoringCompany'}\n",
    "dict_one.update(dict_two)\n",
    "print('dict_one',dict_one)\n",
    "dict_one.move_to_end('SpaceX',last=False)\n",
    "print('dict_one',dict_one)"
   ]
  },
  {
   "cell_type": "markdown",
   "id": "a67da729",
   "metadata": {},
   "source": [
    "#### 6.Write a Python program to check order of character in string using OrderedDict()?"
   ]
  },
  {
   "cell_type": "code",
   "execution_count": 7,
   "id": "cc023a52",
   "metadata": {},
   "outputs": [
    {
     "name": "stdout",
     "output_type": "stream",
     "text": [
      "{'e': 7000, 'a': 2000, 'd': 4000, 'c': 3000, 'b': 6000, 'f': 5000}\n",
      "OrderedDict([('a', 2000), ('b', 6000), ('c', 3000), ('d', 4000), ('e', 7000), ('f', 5000)])\n"
     ]
    }
   ],
   "source": [
    "from collections import OrderedDict\n",
    "\n",
    "initial_list = {'e': 7000, 'a': 2000, 'd': 4000, 'c': 3000, 'b': 6000, 'f': 5000}\n",
    "print(initial_list)\n",
    "\n",
    "final_list = OrderedDict(dict(sorted(initial_list.items())))\n",
    "print(final_list)"
   ]
  },
  {
   "cell_type": "markdown",
   "id": "00e77a00",
   "metadata": {},
   "source": [
    "#### 7.Write a Python program to sort Python Dictionaries by Key or Value?"
   ]
  },
  {
   "cell_type": "code",
   "execution_count": 8,
   "id": "799ba84a",
   "metadata": {},
   "outputs": [
    {
     "name": "stdout",
     "output_type": "stream",
     "text": [
      "{'Bananas': 60, 'Grapes': 120, 'Mangoes': 80, 'PineApples': 220}\n",
      "{'Bananas': 60, 'Mangoes': 80, 'Grapes': 120, 'PineApples': 220}\n"
     ]
    }
   ],
   "source": [
    "d_items = {'Mangoes':80,'PineApples':220,'Bananas':60,'Grapes':120}\n",
    "\n",
    "def sort_dict(in_dict,sort_type):\n",
    "    if sort_type == 'key':\n",
    "        print(dict(sorted(in_dict.items(), key=lambda x:x[0], reverse=False)))\n",
    "    else:\n",
    "        print(dict(sorted(in_dict.items(), key=lambda x:x[1], reverse=False)))\n",
    "        \n",
    "sort_dict(d_items,'key')        \n",
    "sort_dict(d_items,'value')"
   ]
  },
  {
   "cell_type": "code",
   "execution_count": 9,
   "id": "2b4012e8",
   "metadata": {},
   "outputs": [
    {
     "name": "stdout",
     "output_type": "stream",
     "text": [
      "[('five', 5), ('four', 4), ('three', 3), ('two', 2), ('one', 1)]\n"
     ]
    }
   ],
   "source": [
    "# Sort dictionary by value descending\n",
    "# Just use reverse=True in the sorted() function.\n",
    "\n",
    "d = {'one': 1, 'three': 3, 'five': 5, 'two': 2, 'four': 4}\n",
    "a = sorted(d.items(), key=lambda x: x[1], reverse=True)\n",
    "print(a)"
   ]
  },
  {
   "cell_type": "code",
   "execution_count": null,
   "id": "92e548c6",
   "metadata": {},
   "outputs": [],
   "source": []
  }
 ],
 "metadata": {
  "kernelspec": {
   "display_name": "Python 3 (ipykernel)",
   "language": "python",
   "name": "python3"
  },
  "language_info": {
   "codemirror_mode": {
    "name": "ipython",
    "version": 3
   },
   "file_extension": ".py",
   "mimetype": "text/x-python",
   "name": "python",
   "nbconvert_exporter": "python",
   "pygments_lexer": "ipython3",
   "version": "3.9.7"
  }
 },
 "nbformat": 4,
 "nbformat_minor": 5
}
