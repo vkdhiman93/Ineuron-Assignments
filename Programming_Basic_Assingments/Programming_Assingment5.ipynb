{
 "cells": [
  {
   "cell_type": "code",
   "execution_count": 8,
   "metadata": {},
   "outputs": [
    {
     "name": "stdout",
     "output_type": "stream",
     "text": [
      "Enter two positive non zero integers: 35 63\n",
      "LCM of 35 and 63 is 315.0\n"
     ]
    }
   ],
   "source": [
    "# Write a Python Program to Find LCM?\n",
    "\n",
    "def gcd(a,b):           # Recursive function to return gcd of a and b\n",
    "    if a == 0:\n",
    "        return b\n",
    "    return gcd(b % a, a)\n",
    "\n",
    "# Function to return LCM of two numbers\n",
    "def lcm(a,b):\n",
    "    return (a / gcd(a,b))* b\n",
    "\n",
    "\n",
    "a, b = input(\"Enter two positive non zero integers: \").split()\n",
    "a, b = int(a), int(b)\n",
    "print(f'LCM of {a} and {b} is {lcm(a,b)}')"
   ]
  },
  {
   "cell_type": "code",
   "execution_count": 9,
   "metadata": {},
   "outputs": [
    {
     "name": "stdout",
     "output_type": "stream",
     "text": [
      "Enter two positive non zero integers:45 90\n",
      "HCF = 45\n"
     ]
    }
   ],
   "source": [
    "# Write a Python Program to Find HCF?\n",
    "\n",
    "def hcf(x, y):\n",
    "  \n",
    "    small = min(x,y)\n",
    "    for i in range(1, small+1):\n",
    "        if((x % i == 0) and (y % i == 0)):\n",
    "            gcd = i\n",
    "              \n",
    "    return gcd\n",
    "\n",
    "a, b = input(\"Enter two positive non zero integers:\").split()\n",
    "a, b = int(a), int(b)\n",
    "\n",
    "print(f\"HCF = {hcf(a,b)}\")"
   ]
  },
  {
   "cell_type": "code",
   "execution_count": 10,
   "metadata": {},
   "outputs": [
    {
     "name": "stdout",
     "output_type": "stream",
     "text": [
      "Enter the Integer value = 89\n",
      "Binary value of 89 = 0b1011001\n",
      "Octal value of 89 = 0o131\n",
      "Hexadecimal value of 89 = 0x59\n"
     ]
    }
   ],
   "source": [
    "# Write a Python Program to Convert Decimal to Binary, Octal and Hexadecimal?\n",
    "\n",
    "a = int(input(\"Enter the Integer value = \"))\n",
    "print(\"Binary value of\", a, \"=\", bin(a))\n",
    "print(\"Octal value of\", a, \"=\", oct(a))\n",
    "print(\"Hexadecimal value of\", a, \"=\", hex(a))"
   ]
  },
  {
   "cell_type": "code",
   "execution_count": 11,
   "metadata": {},
   "outputs": [
    {
     "name": "stdout",
     "output_type": "stream",
     "text": [
      "Enter a character = v\n",
      "ASCII value of v is 118\n"
     ]
    }
   ],
   "source": [
    "#Write a Python Program To Find ASCII value of a character?\n",
    "\n",
    "a=input(\"Enter a character = \")\n",
    "print(\"ASCII value of {} is {}\". format(a,ord(a)))"
   ]
  },
  {
   "cell_type": "code",
   "execution_count": 13,
   "metadata": {},
   "outputs": [
    {
     "name": "stdout",
     "output_type": "stream",
     "text": [
      "Enter two numbers to be operated: -73 24\n",
      "Enter 'a' to add, 's' to subtract, 'm' to multiply, 'd' to divide:  m\n",
      "a x b = -1752\n"
     ]
    }
   ],
   "source": [
    "#Write a Python Program to Make a Simple Calculator with 4 basic mathematical operations?\n",
    "\n",
    "a,b=input(\"Enter two numbers to be operated: \").split()\n",
    "a,b=int(a),int(b)\n",
    "o = input(\"Enter 'a' to add, 's' to subtract, 'm' to multiply, 'd' to divide:  \")\n",
    "if o == 'a':\n",
    "    print(\"a + b =\", a+b)\n",
    "elif o == 's':\n",
    "    print(\"a - b =\", a-b)\n",
    "elif o == 'm':\n",
    "    print(\"a x b =\", a*b)\n",
    "elif o == 'd':\n",
    "    try:\n",
    "        print(\"a / b =\", a/b)\n",
    "    except ZeroDivisionError as e :\n",
    "        print(\"b can't be zero\")"
   ]
  }
 ],
 "metadata": {
  "kernelspec": {
   "display_name": "Python 3",
   "language": "python",
   "name": "python3"
  },
  "language_info": {
   "codemirror_mode": {
    "name": "ipython",
    "version": 3
   },
   "file_extension": ".py",
   "mimetype": "text/x-python",
   "name": "python",
   "nbconvert_exporter": "python",
   "pygments_lexer": "ipython3",
   "version": "3.8.5"
  }
 },
 "nbformat": 4,
 "nbformat_minor": 4
}
