{
 "cells": [
  {
   "cell_type": "markdown",
   "id": "f594c2cd",
   "metadata": {},
   "source": [
    "### 1. To what does a relative path refer?"
   ]
  },
  {
   "cell_type": "markdown",
   "id": "c679a636",
   "metadata": {},
   "source": [
    "A relative path is the path that (as the name sounds) is relative to the working directory location on your computer.\n",
    "\n",
    "os.path.relpath() method in Python is used to get a relative filepath to the given path either from the current working directory or from the given directory."
   ]
  },
  {
   "cell_type": "code",
   "execution_count": 1,
   "id": "3849d025",
   "metadata": {},
   "outputs": [
    {
     "name": "stdout",
     "output_type": "stream",
     "text": [
      " Desktop \\ New folder \\ file.ppt\n"
     ]
    }
   ],
   "source": [
    "import os\n",
    "  \n",
    "# Path\n",
    "path = \"/home / User / Desktop / New folder / file.ppt\" \n",
    "  \n",
    "# Path of Start directory\n",
    "start = \"/home / User / \"\n",
    "  \n",
    "# Compute the relative file path to the given path from the given start directory.\n",
    "relative_path = os.path.relpath(path, start)\n",
    "\n",
    "print(relative_path)\n",
    "  "
   ]
  },
  {
   "cell_type": "markdown",
   "id": "9f9b10fd",
   "metadata": {},
   "source": [
    "### 2. What does an absolute path refer to?"
   ]
  },
  {
   "cell_type": "markdown",
   "id": "5a3a94d8",
   "metadata": {},
   "source": [
    "    absolute path = pwd + relative path\n",
    "    absolute path always starts with root directory\n",
    "An absolute path is a path that contains the entire path to the file or directory that you need to access. This path will begin at the home directory of your computer and will end with the file or directory that you wish to access.\n"
   ]
  },
  {
   "cell_type": "code",
   "execution_count": 2,
   "id": "31ccf5cc",
   "metadata": {},
   "outputs": [
    {
     "data": {
      "text/plain": [
       "'C:\\\\New folder \\\\ file.ppt'"
      ]
     },
     "execution_count": 2,
     "metadata": {},
     "output_type": "execute_result"
    }
   ],
   "source": [
    "os.path.abspath(\"/New folder / file.ppt\")"
   ]
  },
  {
   "cell_type": "markdown",
   "id": "c964a1fa",
   "metadata": {},
   "source": [
    "### 3. What do the functions os.getcwd() and os.chdir() do?"
   ]
  },
  {
   "cell_type": "markdown",
   "id": "40fd1c6c",
   "metadata": {},
   "source": [
    "    os.chdir() performs change directory\n",
    "    os.getcwd() gives current working directory"
   ]
  },
  {
   "cell_type": "markdown",
   "id": "1b59e9df",
   "metadata": {},
   "source": [
    "### 4. What are the . and .. folders?"
   ]
  },
  {
   "cell_type": "markdown",
   "id": "25fe3635",
   "metadata": {},
   "source": [
    "    these are not real folder but are special names for path\n",
    "        (.) = this directory\n",
    "        (..)= parent directory"
   ]
  },
  {
   "cell_type": "markdown",
   "id": "d19ee4ab",
   "metadata": {},
   "source": [
    "### 5. In C:\\bacon\\eggs\\spam.txt, which part is the dir name, and which part is the base name?"
   ]
  },
  {
   "cell_type": "markdown",
   "id": "158faacc",
   "metadata": {},
   "source": [
    "    C:\\bacon\\eggs --> dir name\n",
    "    \n",
    "    spam.txt --> base name"
   ]
  },
  {
   "cell_type": "markdown",
   "id": "ebb9fb9a",
   "metadata": {},
   "source": [
    "### 6. What are the three “mode” arguments that can be passed to the open() function?"
   ]
  },
  {
   "cell_type": "markdown",
   "id": "534419fc",
   "metadata": {},
   "source": [
    "    Three mode arguments are:\n",
    "        1. 'r' --> open for reading in text mode.\n",
    "        2. 'w' --> open for writing.\n",
    "        3. 'a' --> open for appending.\n",
    "        "
   ]
  },
  {
   "cell_type": "markdown",
   "id": "2623ec75",
   "metadata": {},
   "source": [
    "### 7. What happens if an existing file is opened in write mode?"
   ]
  },
  {
   "cell_type": "markdown",
   "id": "e2747ecc",
   "metadata": {},
   "source": [
    "    when an existing file is opened in write mode previous content is erased and file is treated as \n",
    "    new empty file."
   ]
  },
  {
   "cell_type": "markdown",
   "id": "3b77e3aa",
   "metadata": {},
   "source": [
    "### 8. How do you tell the difference between read() and readlines()?"
   ]
  },
  {
   "cell_type": "markdown",
   "id": "4570d270",
   "metadata": {},
   "source": [
    "    read()      --> it iterates over each character.\n",
    "    readlines() --> read only single line of the file."
   ]
  },
  {
   "cell_type": "markdown",
   "id": "bab31fc3",
   "metadata": {},
   "source": [
    "### 9. What data structure does a shelf value resemble?"
   ]
  },
  {
   "cell_type": "markdown",
   "id": "776d0f1f",
   "metadata": {},
   "source": [
    "    As it contains key and values it represents dictionary."
   ]
  }
 ],
 "metadata": {
  "kernelspec": {
   "display_name": "Python 3",
   "language": "python",
   "name": "python3"
  },
  "language_info": {
   "codemirror_mode": {
    "name": "ipython",
    "version": 3
   },
   "file_extension": ".py",
   "mimetype": "text/x-python",
   "name": "python",
   "nbconvert_exporter": "python",
   "pygments_lexer": "ipython3",
   "version": "3.8.8"
  }
 },
 "nbformat": 4,
 "nbformat_minor": 5
}
