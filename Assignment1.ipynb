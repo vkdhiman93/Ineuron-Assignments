{
 "cells": [
  {
   "cell_type": "markdown",
   "metadata": {},
   "source": [
    "1. What are the differences between operators and values in the following?\n",
    "*\n",
    "'hello'\n",
    "-87.8\n",
    "-\n",
    "/\n",
    "+\n",
    "6\n",
    "Ans. Operators are used to perform operations like multiply,divide,add,subtract etc. Here operators are: *,-,/,+\n",
    "     while values are on which operations are performed, Here values are: 'hello' -> string , -87.8 -> float, 6 -> int"
   ]
  },
  {
   "cell_type": "markdown",
   "metadata": {},
   "source": [
    "2. What is the difference between string and variable?\n",
    "spam\n",
    "'spam'\n",
    "\n",
    "Ans. Variables are labels that the user can assign values to. For ex. spam = 5 -> Here spam is a variable which is assigned a        value 5 of type int .\n",
    "    'spam' is a string .A string is defined in quotes. A string is usually a series of characters "
   ]
  },
  {
   "cell_type": "markdown",
   "metadata": {},
   "source": [
    "3. Describe three different data forms.\n",
    "\n",
    "Ans. The three major data types in Python are:\n",
    "    1. Numbers - includes data types of int -> integers , float -> decimal numbers ,complex -> complex numbers\n",
    "    2. Strings - In Python a sequence of one or more characters enclosed within quotes is considered as string. Any letter, a  number or a symbol could be a part of the sting.\n",
    "    3. Boolean -  Boolean in python can have only two values -> True or False. These values are constants and can be used to assign or compare boolean values.\n",
    "    Python has a built-in function type() to determine the data type of a variable or the value."
   ]
  },
  {
   "cell_type": "markdown",
   "metadata": {},
   "source": [
    "4. What makes up an expression? What are the functions of all expressions?\n",
    "\n",
    "Ans. An expression is a combination of values, variables & operators for ex. 3 + 5\n",
    "     An expression can also be a call to a function for ex. len(\"Python\")\n",
    "     Expressions are used all over the program to evaluate values , call functions , perform different operations etc."
   ]
  },
  {
   "cell_type": "markdown",
   "metadata": {},
   "source": [
    "5. In this chapter, assignment statements such as spam = 10 were added. What's the difference between a declaration and an expression?\n",
    "\n",
    "Ans. An expression gives out a value or it evaluates down to a single value.\n",
    "\n",
    "    while a Declaration is a statement like assigning values, if statement, while statement etc.\n",
    "    more specifically  it is pretty much everything else that isn't an expression."
   ]
  },
  {
   "cell_type": "markdown",
   "metadata": {},
   "source": [
    "6. After running the following code, what does the variable bacon contain?\n",
    "bacon = 22\n",
    "bacon + 1\n",
    "\n",
    "Ans. The value of variable bacon will be 22. As bacon + 1 is not assigned to the variable bacon(after the operation) , therefore the value of bacon remains same as 22"
   ]
  },
  {
   "cell_type": "markdown",
   "metadata": {},
   "source": [
    "7. What should the values of the following two terms be?\n",
    "\n",
    "Ans. 'spam' + 'spamspam' -> 'spamspamspam'\n",
    "        'spam' * 3       -> 'spamspamspam'\n"
   ]
  },
  {
   "cell_type": "markdown",
   "metadata": {},
   "source": [
    "8. Why is it that eggs is a true variable name but 100 is not?\n",
    "\n",
    "Ans. Variable names can contain only letters, numbers, and underscores. They can start with a letter or an underscore, but not with a number. Thats why 100 can not be a variable name.\n"
   ]
  },
  {
   "cell_type": "markdown",
   "metadata": {},
   "source": [
    "9. Which of the following three functions may be used to convert a value to an integer, a floating-point number, or a string?\n",
    "\n",
    "Ans. The following methods can be used for typecasting :\n",
    "     Convert to integer -> int()\n",
    "     Convert to float   -> float()\n",
    "     Convert to string  -> str()\n",
    "     for ex. an integer value is assigned to variable s -> s = 2\n",
    "     To convert it to string we use -> s = str(s)\n",
    "     "
   ]
  },
  {
   "cell_type": "markdown",
   "metadata": {},
   "source": [
    "10. What is the error caused by this expression? What would you do about it?\n",
    "\n",
    "'I have eaten ' + 99 + ' burritos.'\n",
    "\n",
    "Ans. Only same type values can be concatenated. Here 99 is an integer while other two values are string type. Therefore to correct the error use quotes around 99. >>> 'I have eaten ' + '99' + ' burritos.'"
   ]
  }
 ],
 "metadata": {
  "kernelspec": {
   "display_name": "Python 3",
   "language": "python",
   "name": "python3"
  },
  "language_info": {
   "codemirror_mode": {
    "name": "ipython",
    "version": 3
   },
   "file_extension": ".py",
   "mimetype": "text/x-python",
   "name": "python",
   "nbconvert_exporter": "python",
   "pygments_lexer": "ipython3",
   "version": "3.8.5"
  }
 },
 "nbformat": 4,
 "nbformat_minor": 4
}
