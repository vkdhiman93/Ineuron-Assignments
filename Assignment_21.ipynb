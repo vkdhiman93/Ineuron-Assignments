{
 "cells": [
  {
   "cell_type": "markdown",
   "id": "984b4513",
   "metadata": {},
   "source": [
    "# Assignment 21 Solutions"
   ]
  },
  {
   "cell_type": "markdown",
   "id": "4fe8b19e",
   "metadata": {},
   "source": [
    "#### 1. Add the current date to the text file today.txt as a string."
   ]
  },
  {
   "cell_type": "code",
   "execution_count": 1,
   "id": "4c5ad5ac",
   "metadata": {},
   "outputs": [
    {
     "name": "stdout",
     "output_type": "stream",
     "text": [
      "23-02-2022\n"
     ]
    }
   ],
   "source": [
    "import datetime\n",
    "# Code to Add current date to the today.txt file\n",
    "file = open('today.txt','w')\n",
    "file.write(datetime.datetime.now().strftime(\"%d-%m-%Y\"))\n",
    "file.close()\n",
    "# Code to Read current date from today.txt file\n",
    "file = open('today.txt','r')\n",
    "print(file.read())\n",
    "file.close()"
   ]
  },
  {
   "cell_type": "markdown",
   "id": "6cf23762",
   "metadata": {},
   "source": [
    "#### 2. Read the text file today.txt into the string today_string"
   ]
  },
  {
   "cell_type": "code",
   "execution_count": 2,
   "id": "107143ea",
   "metadata": {},
   "outputs": [
    {
     "name": "stdout",
     "output_type": "stream",
     "text": [
      "23-02-2022\n"
     ]
    }
   ],
   "source": [
    "file = open('today.txt','r')\n",
    "today_string = file.read()\n",
    "print(today_string)"
   ]
  },
  {
   "cell_type": "markdown",
   "id": "165addb6",
   "metadata": {},
   "source": [
    "#### 3. Parse the date from today_string."
   ]
  },
  {
   "cell_type": "code",
   "execution_count": 3,
   "id": "c622da5b",
   "metadata": {},
   "outputs": [
    {
     "name": "stdout",
     "output_type": "stream",
     "text": [
      "2022-02-23 00:00:00\n"
     ]
    }
   ],
   "source": [
    "from datetime import datetime\n",
    "parsed_data = datetime.strptime(today_string, '%d-%m-%Y')\n",
    "print(parsed_data)"
   ]
  },
  {
   "cell_type": "markdown",
   "id": "664d3278",
   "metadata": {},
   "source": [
    "#### 4. List the files in your current directory"
   ]
  },
  {
   "cell_type": "code",
   "execution_count": 4,
   "id": "cbacd0e4",
   "metadata": {},
   "outputs": [
    {
     "name": "stdout",
     "output_type": "stream",
     "text": [
      "01.Assignment_01.ipynb\n",
      "02.Assignment_02.ipynb\n",
      "03.Assignment_03.ipynb\n",
      "04.Assignment_04.ipynb\n",
      "05.Assignment_05.ipynb\n",
      "06.Assignment_06.ipynb\n",
      "07.Assignment_07.ipynb\n",
      "08.Assignment_08.ipynb\n",
      "09.Assignment_09.ipynb\n",
      "10.Assignment_10.ipynb\n",
      "11.Assignment_11.ipynb\n",
      "12.Assignment_12.ipynb\n",
      "13.Assignment_13.ipynb\n",
      "14.Assignment_14.ipynb\n",
      "15.Assignment_15.ipynb\n",
      "16.Assignment_16.ipynb\n",
      "17.Assignment_17.ipynb\n",
      "18.Assignment_18.ipynb\n",
      "19.Assignment_19.ipynb\n",
      "20.Assignment_20.ipynb\n",
      "21.Assignment_21.ipynb\n",
      "22.Assignment_22.ipynb\n",
      "23.Assignment_23.ipynb\n",
      "24.Assignment_24.ipynb\n",
      "25.Assignment_25.ipynb\n",
      "brand_records.csv\n",
      "pic1.gif\n",
      "pic1.jpg\n",
      "sharks.csv\n",
      "Sitting Posture.gif\n",
      "today.txt\n",
      "17.Assignment_17-checkpoint.ipynb\n",
      "18.Assignment_18-checkpoint.ipynb\n",
      "19.Assignment_19-checkpoint.ipynb\n",
      "20.Assignment_20-checkpoint.ipynb\n"
     ]
    }
   ],
   "source": [
    "import os\n",
    "for folders, subfolders, files in os.walk(os.getcwd()):\n",
    "    for file in files:\n",
    "        print(file)"
   ]
  },
  {
   "cell_type": "markdown",
   "id": "291a203b",
   "metadata": {},
   "source": [
    "#### 5. Create a list of all of the files in your parent directory (minimum five files should be available)."
   ]
  },
  {
   "cell_type": "code",
   "execution_count": 5,
   "id": "efe9618b",
   "metadata": {},
   "outputs": [
    {
     "data": {
      "text/plain": [
       "['.ipynb_checkpoints',\n",
       " '01.Assignment_01.ipynb',\n",
       " '02.Assignment_02.ipynb',\n",
       " '03.Assignment_03.ipynb',\n",
       " '04.Assignment_04.ipynb',\n",
       " '05.Assignment_05.ipynb',\n",
       " '06.Assignment_06.ipynb',\n",
       " '07.Assignment_07.ipynb',\n",
       " '08.Assignment_08.ipynb',\n",
       " '09.Assignment_09.ipynb',\n",
       " '10.Assignment_10.ipynb',\n",
       " '11.Assignment_11.ipynb',\n",
       " '12.Assignment_12.ipynb',\n",
       " '13.Assignment_13.ipynb',\n",
       " '14.Assignment_14.ipynb',\n",
       " '15.Assignment_15.ipynb',\n",
       " '16.Assignment_16.ipynb',\n",
       " '17.Assignment_17.ipynb',\n",
       " '18.Assignment_18.ipynb',\n",
       " '19.Assignment_19.ipynb',\n",
       " '20.Assignment_20.ipynb',\n",
       " '21.Assignment_21.ipynb',\n",
       " '22.Assignment_22.ipynb',\n",
       " '23.Assignment_23.ipynb',\n",
       " '24.Assignment_24.ipynb',\n",
       " '25.Assignment_25.ipynb',\n",
       " 'brand_records.csv',\n",
       " 'pic1.gif',\n",
       " 'pic1.jpg',\n",
       " 'sharks.csv',\n",
       " 'Sitting Posture.gif',\n",
       " 'today.txt']"
      ]
     },
     "execution_count": 5,
     "metadata": {},
     "output_type": "execute_result"
    }
   ],
   "source": [
    "import os \n",
    "os.listdir()"
   ]
  },
  {
   "cell_type": "markdown",
   "id": "203dd9fe",
   "metadata": {},
   "source": [
    "#### 6. Use multiprocessing to create three separate processes. Make each one wait a random number of seconds between one and five, print the current time, and then exit."
   ]
  },
  {
   "cell_type": "code",
   "execution_count": 6,
   "id": "bcb2799b",
   "metadata": {},
   "outputs": [],
   "source": [
    "import multiprocessing\n",
    "import time \n",
    "import random\n",
    "import datetime\n",
    "\n",
    "def procOne():\n",
    "    print(f'Proc_one_Starttime -> {datetime.datetime.now()}')\n",
    "    time.sleep(random.randint(1,5))\n",
    "    print(f'Proc_one_Endtime -> {datetime.datetime.now()}')\n",
    "    \n",
    "def procTwo():\n",
    "    print(f'Proc_two_Starttime -> {datetime.datetime.now()}')\n",
    "    time.sleep(random.randint(1,5))\n",
    "    print(f'Proc_two_Endtime -> {datetime.datetime.now()}')\n",
    "\n",
    "def procThree():\n",
    "    print(f'Proc_two_Starttime -> {datetime.datetime.now()}')\n",
    "    time.sleep(random.randint(1,5))\n",
    "    print(f'Proc_two_Endtime -> {datetime.datetime.now()}')\n",
    "    \n",
    "if __name__ == \"__main__\":    \n",
    "    p1 = multiprocessing.Process(target=procOne)\n",
    "    p2 = multiprocessing.Process(target=procTwo)\n",
    "    p3 = multiprocessing.Process(target=procThree)\n",
    "\n",
    "    p1.start()\n",
    "    p2.start()\n",
    "    p3.start()\n",
    "\n",
    "    p1.join()\n",
    "    p2.join()\n",
    "    p3.join()"
   ]
  },
  {
   "cell_type": "markdown",
   "id": "710ba830-38ca-4814-a28d-a266099ff07f",
   "metadata": {},
   "source": [
    "The above code did not print any results here in the jupyter cell. So i ran a python file containing this code. Output is shown below:  \n",
    "`(base) PS D:\\Python> & D:/Installed/anaconda3/python.exe d:/Python/multiprocess.py\n",
    "Proc_two_Starttime -> 2022-02-23 20:29:43.489499\n",
    "Proc_two_Starttime -> 2022-02-23 20:29:43.490501\n",
    "Proc_one_Starttime -> 2022-02-23 20:29:43.490501\n",
    "Proc_two_Endtime -> 2022-02-23 20:29:45.496216\n",
    "Proc_two_Endtime -> 2022-02-23 20:29:47.491507\n",
    "Proc_one_Endtime -> 2022-02-23 20:29:48.502835`  "
   ]
  },
  {
   "cell_type": "markdown",
   "id": "71d07e78",
   "metadata": {},
   "source": [
    "#### 7. Create a date object of your day of birth."
   ]
  },
  {
   "cell_type": "code",
   "execution_count": 7,
   "id": "b3e67c1c",
   "metadata": {},
   "outputs": [
    {
     "name": "stdout",
     "output_type": "stream",
     "text": [
      "1993-01-25 00:00:00 <class 'datetime.datetime'>\n"
     ]
    }
   ],
   "source": [
    "from datetime import datetime\n",
    "my_dob = datetime.strptime('25/01/1993','%d/%m/%Y')\n",
    "print(my_dob, type(my_dob))"
   ]
  },
  {
   "cell_type": "markdown",
   "id": "e5775db9",
   "metadata": {},
   "source": [
    "#### 8. What day of the week was your day of birth?"
   ]
  },
  {
   "cell_type": "code",
   "execution_count": 9,
   "id": "65b6ae43",
   "metadata": {},
   "outputs": [
    {
     "data": {
      "text/plain": [
       "'Monday'"
      ]
     },
     "execution_count": 9,
     "metadata": {},
     "output_type": "execute_result"
    }
   ],
   "source": [
    "from datetime import datetime\n",
    "my_dob = datetime(1993,1,25)\n",
    "my_dob.strftime(\"%A\")"
   ]
  },
  {
   "cell_type": "markdown",
   "id": "abe779de",
   "metadata": {},
   "source": [
    "#### 9. When will you be (or when were you) 10,000 days old?"
   ]
  },
  {
   "cell_type": "code",
   "execution_count": 10,
   "id": "db7e28a0",
   "metadata": {},
   "outputs": [
    {
     "data": {
      "text/plain": [
       "datetime.datetime(1965, 9, 9, 0, 0)"
      ]
     },
     "execution_count": 10,
     "metadata": {},
     "output_type": "execute_result"
    }
   ],
   "source": [
    "from datetime import datetime, timedelta\n",
    "my_dob = datetime.strptime(\"25/01/1993\",'%d/%m/%Y')\n",
    "future_date = my_dob-timedelta(10000)\n",
    "future_date"
   ]
  },
  {
   "cell_type": "code",
   "execution_count": null,
   "id": "1a50b79e",
   "metadata": {},
   "outputs": [],
   "source": []
  }
 ],
 "metadata": {
  "kernelspec": {
   "display_name": "Python 3 (ipykernel)",
   "language": "python",
   "name": "python3"
  },
  "language_info": {
   "codemirror_mode": {
    "name": "ipython",
    "version": 3
   },
   "file_extension": ".py",
   "mimetype": "text/x-python",
   "name": "python",
   "nbconvert_exporter": "python",
   "pygments_lexer": "ipython3",
   "version": "3.9.7"
  }
 },
 "nbformat": 4,
 "nbformat_minor": 5
}
